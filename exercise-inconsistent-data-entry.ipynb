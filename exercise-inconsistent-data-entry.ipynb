{
 "cells": [
  {
   "cell_type": "markdown",
   "metadata": {
    "papermill": {
     "duration": 0.014178,
     "end_time": "2020-11-28T09:58:56.543601",
     "exception": false,
     "start_time": "2020-11-28T09:58:56.529423",
     "status": "completed"
    },
    "tags": []
   },
   "source": [
    "**This notebook is an exercise in the [Data Cleaning](https://www.kaggle.com/learn/data-cleaning) course.  You can reference the tutorial at [this link](https://www.kaggle.com/alexisbcook/inconsistent-data-entry).**\n",
    "\n",
    "---\n"
   ]
  },
  {
   "cell_type": "markdown",
   "metadata": {
    "papermill": {
     "duration": 0.012706,
     "end_time": "2020-11-28T09:58:56.569336",
     "exception": false,
     "start_time": "2020-11-28T09:58:56.556630",
     "status": "completed"
    },
    "tags": []
   },
   "source": [
    "In this exercise, you'll apply what you learned in the **Inconsistent data entry** tutorial.\n",
    "\n",
    "# Setup\n",
    "\n",
    "The questions below will give you feedback on your work. Run the following cell to set up the feedback system."
   ]
  },
  {
   "cell_type": "code",
   "execution_count": 1,
   "metadata": {
    "execution": {
     "iopub.execute_input": "2020-11-28T09:58:56.601239Z",
     "iopub.status.busy": "2020-11-28T09:58:56.600476Z",
     "iopub.status.idle": "2020-11-28T09:58:56.698062Z",
     "shell.execute_reply": "2020-11-28T09:58:56.698595Z"
    },
    "papermill": {
     "duration": 0.116614,
     "end_time": "2020-11-28T09:58:56.698765",
     "exception": false,
     "start_time": "2020-11-28T09:58:56.582151",
     "status": "completed"
    },
    "tags": []
   },
   "outputs": [
    {
     "name": "stdout",
     "output_type": "stream",
     "text": [
      "Setup Complete\n"
     ]
    }
   ],
   "source": [
    "from learntools.core import binder\n",
    "binder.bind(globals())\n",
    "from learntools.data_cleaning.ex5 import *\n",
    "print(\"Setup Complete\")"
   ]
  },
  {
   "cell_type": "markdown",
   "metadata": {
    "papermill": {
     "duration": 0.013412,
     "end_time": "2020-11-28T09:58:56.726177",
     "exception": false,
     "start_time": "2020-11-28T09:58:56.712765",
     "status": "completed"
    },
    "tags": []
   },
   "source": [
    "# Get our environment set up\n",
    "\n",
    "The first thing we'll need to do is load in the libraries and dataset we'll be using.  We use the same dataset from the tutorial."
   ]
  },
  {
   "cell_type": "code",
   "execution_count": 2,
   "metadata": {
    "execution": {
     "iopub.execute_input": "2020-11-28T09:58:56.760518Z",
     "iopub.status.busy": "2020-11-28T09:58:56.759634Z",
     "iopub.status.idle": "2020-11-28T09:58:56.771229Z",
     "shell.execute_reply": "2020-11-28T09:58:56.770626Z"
    },
    "papermill": {
     "duration": 0.031663,
     "end_time": "2020-11-28T09:58:56.771327",
     "exception": false,
     "start_time": "2020-11-28T09:58:56.739664",
     "status": "completed"
    },
    "tags": []
   },
   "outputs": [],
   "source": [
    "# modules we'll use\n",
    "import pandas as pd\n",
    "import numpy as np\n",
    "\n",
    "# helpful modules\n",
    "import fuzzywuzzy\n",
    "from fuzzywuzzy import process\n",
    "import chardet\n",
    "\n",
    "# read in all our data\n",
    "professors = pd.read_csv(\"../input/pakistan-intellectual-capital/pakistan_intellectual_capital.csv\")\n",
    "\n",
    "# set seed for reproducibility\n",
    "np.random.seed(0)"
   ]
  },
  {
   "cell_type": "markdown",
   "metadata": {
    "papermill": {
     "duration": 0.013219,
     "end_time": "2020-11-28T09:58:56.798222",
     "exception": false,
     "start_time": "2020-11-28T09:58:56.785003",
     "status": "completed"
    },
    "tags": []
   },
   "source": [
    "Next, we'll redo all of the work that we did in the tutorial."
   ]
  },
  {
   "cell_type": "code",
   "execution_count": 3,
   "metadata": {
    "execution": {
     "iopub.execute_input": "2020-11-28T09:58:56.842867Z",
     "iopub.status.busy": "2020-11-28T09:58:56.841979Z",
     "iopub.status.idle": "2020-11-28T09:58:56.846807Z",
     "shell.execute_reply": "2020-11-28T09:58:56.846242Z"
    },
    "papermill": {
     "duration": 0.035299,
     "end_time": "2020-11-28T09:58:56.846910",
     "exception": false,
     "start_time": "2020-11-28T09:58:56.811611",
     "status": "completed"
    },
    "tags": []
   },
   "outputs": [
    {
     "name": "stdout",
     "output_type": "stream",
     "text": [
      "All done!\n"
     ]
    }
   ],
   "source": [
    "# convert to lower case\n",
    "professors['Country'] = professors['Country'].str.lower()\n",
    "# remove trailing white spaces\n",
    "professors['Country'] = professors['Country'].str.strip()\n",
    "\n",
    "# get the top 10 closest matches to \"south korea\"\n",
    "countries = professors['Country'].unique()\n",
    "matches = fuzzywuzzy.process.extract(\"south korea\", countries, limit=10, scorer=fuzzywuzzy.fuzz.token_sort_ratio)\n",
    "\n",
    "def replace_matches_in_column(df, column, string_to_match, min_ratio = 47):\n",
    "    # get a list of unique strings\n",
    "    strings = df[column].unique()\n",
    "    \n",
    "    # get the top 10 closest matches to our input string\n",
    "    matches = fuzzywuzzy.process.extract(string_to_match, strings, \n",
    "                                         limit=10, scorer=fuzzywuzzy.fuzz.token_sort_ratio)\n",
    "\n",
    "    # only get matches with a ratio > 90\n",
    "    close_matches = [matches[0] for matches in matches if matches[1] >= min_ratio]\n",
    "\n",
    "    # get the rows of all the close matches in our dataframe\n",
    "    rows_with_matches = df[column].isin(close_matches)\n",
    "\n",
    "    # replace all rows with close matches with the input matches \n",
    "    df.loc[rows_with_matches, column] = string_to_match\n",
    "    \n",
    "    # let us know the function's done\n",
    "    print(\"All done!\")\n",
    "    \n",
    "replace_matches_in_column(df=professors, column='Country', string_to_match=\"south korea\")\n",
    "countries = professors['Country'].unique()"
   ]
  },
  {
   "cell_type": "markdown",
   "metadata": {
    "papermill": {
     "duration": 0.014188,
     "end_time": "2020-11-28T09:58:56.875045",
     "exception": false,
     "start_time": "2020-11-28T09:58:56.860857",
     "status": "completed"
    },
    "tags": []
   },
   "source": [
    "# 1) Examine another column\n",
    "\n",
    "Write code below to take a look at all the unique values in the \"Graduated from\" column."
   ]
  },
  {
   "cell_type": "code",
   "execution_count": 4,
   "metadata": {
    "execution": {
     "iopub.execute_input": "2020-11-28T09:58:56.911297Z",
     "iopub.status.busy": "2020-11-28T09:58:56.910427Z",
     "iopub.status.idle": "2020-11-28T09:58:56.914037Z",
     "shell.execute_reply": "2020-11-28T09:58:56.914658Z"
    },
    "papermill": {
     "duration": 0.02571,
     "end_time": "2020-11-28T09:58:56.914780",
     "exception": false,
     "start_time": "2020-11-28T09:58:56.889070",
     "status": "completed"
    },
    "tags": []
   },
   "outputs": [
    {
     "data": {
      "text/plain": [
       "0                           Asian Institute of Technology\n",
       "1                           Asian Institute of Technology\n",
       "2                           Asian Institute of Technology\n",
       "3                           Asian Institute of Technology\n",
       "4       Balochistan University of Information Technolo...\n",
       "                              ...                        \n",
       "1137                                                  JNU\n",
       "1138                                             Grenoble\n",
       "1139                          Florida Atlantic University\n",
       "1140    Ghulam Ishaq Khan Institute of Science and Tec...\n",
       "1141                            Seoul National University\n",
       "Name: Graduated from, Length: 1142, dtype: object"
      ]
     },
     "execution_count": 4,
     "metadata": {},
     "output_type": "execute_result"
    }
   ],
   "source": [
    "# TODO: Your code here\n",
    "professors['Graduated from']"
   ]
  },
  {
   "cell_type": "markdown",
   "metadata": {
    "papermill": {
     "duration": 0.014363,
     "end_time": "2020-11-28T09:58:56.943643",
     "exception": false,
     "start_time": "2020-11-28T09:58:56.929280",
     "status": "completed"
    },
    "tags": []
   },
   "source": [
    "Do you notice any inconsistencies in the data?  Can any of the inconsistencies in the data be fixed by removing white spaces at the beginning and end of cells?\n",
    "\n",
    "Once you have answered these questions, run the code cell below to get credit for your work."
   ]
  },
  {
   "cell_type": "code",
   "execution_count": 5,
   "metadata": {
    "execution": {
     "iopub.execute_input": "2020-11-28T09:58:56.978506Z",
     "iopub.status.busy": "2020-11-28T09:58:56.977616Z",
     "iopub.status.idle": "2020-11-28T09:58:56.983304Z",
     "shell.execute_reply": "2020-11-28T09:58:56.982844Z"
    },
    "papermill": {
     "duration": 0.02509,
     "end_time": "2020-11-28T09:58:56.983416",
     "exception": false,
     "start_time": "2020-11-28T09:58:56.958326",
     "status": "completed"
    },
    "tags": []
   },
   "outputs": [
    {
     "data": {
      "application/javascript": [
       "parent.postMessage({\"jupyterEvent\": \"custom.exercise_interaction\", \"data\": {\"outcomeType\": 1, \"valueTowardsCompletion\": 0.3333333333333333, \"interactionType\": 1, \"questionType\": 4, \"questionId\": \"1_ExamineProvince\", \"learnToolsVersion\": \"0.3.4\", \"failureMessage\": \"\", \"exceptionClass\": \"\", \"trace\": \"\"}}, \"*\")"
      ],
      "text/plain": [
       "<IPython.core.display.Javascript object>"
      ]
     },
     "metadata": {},
     "output_type": "display_data"
    },
    {
     "data": {
      "text/markdown": [
       "<span style=\"color:#33cc33\">Correct:</span> \n",
       "\n",
       "There are inconsistencies that can be fixed by removing white spaces at the beginning and end of cells.  For instance, \"University of Central Florida\" and \" University of Central Florida\" both appear in the column."
      ],
      "text/plain": [
       "Correct: \n",
       "\n",
       "There are inconsistencies that can be fixed by removing white spaces at the beginning and end of cells.  For instance, \"University of Central Florida\" and \" University of Central Florida\" both appear in the column."
      ]
     },
     "metadata": {},
     "output_type": "display_data"
    }
   ],
   "source": [
    "# Check your answer (Run this code cell to receive credit!)\n",
    "q1.check()"
   ]
  },
  {
   "cell_type": "code",
   "execution_count": 6,
   "metadata": {
    "execution": {
     "iopub.execute_input": "2020-11-28T09:58:57.018739Z",
     "iopub.status.busy": "2020-11-28T09:58:57.017954Z",
     "iopub.status.idle": "2020-11-28T09:58:57.020598Z",
     "shell.execute_reply": "2020-11-28T09:58:57.021018Z"
    },
    "papermill": {
     "duration": 0.021494,
     "end_time": "2020-11-28T09:58:57.021131",
     "exception": false,
     "start_time": "2020-11-28T09:58:56.999637",
     "status": "completed"
    },
    "tags": []
   },
   "outputs": [],
   "source": [
    "# Line below will give you a hint\n",
    "#q1.hint()"
   ]
  },
  {
   "cell_type": "markdown",
   "metadata": {
    "papermill": {
     "duration": 0.015973,
     "end_time": "2020-11-28T09:58:57.053042",
     "exception": false,
     "start_time": "2020-11-28T09:58:57.037069",
     "status": "completed"
    },
    "tags": []
   },
   "source": [
    "# 2) Do some text pre-processing\n",
    "\n",
    "Convert every entry in the \"Graduated from\" column in the `professors` DataFrame to remove white spaces at the beginning and end of cells."
   ]
  },
  {
   "cell_type": "code",
   "execution_count": 7,
   "metadata": {
    "execution": {
     "iopub.execute_input": "2020-11-28T09:58:57.093706Z",
     "iopub.status.busy": "2020-11-28T09:58:57.092790Z",
     "iopub.status.idle": "2020-11-28T09:58:57.098676Z",
     "shell.execute_reply": "2020-11-28T09:58:57.098161Z"
    },
    "papermill": {
     "duration": 0.029764,
     "end_time": "2020-11-28T09:58:57.098782",
     "exception": false,
     "start_time": "2020-11-28T09:58:57.069018",
     "status": "completed"
    },
    "tags": []
   },
   "outputs": [
    {
     "data": {
      "application/javascript": [
       "parent.postMessage({\"jupyterEvent\": \"custom.exercise_interaction\", \"data\": {\"outcomeType\": 1, \"valueTowardsCompletion\": 0.3333333333333333, \"interactionType\": 1, \"questionType\": 1, \"questionId\": \"2_TextProcessing\", \"learnToolsVersion\": \"0.3.4\", \"failureMessage\": \"\", \"exceptionClass\": \"\", \"trace\": \"\"}}, \"*\")"
      ],
      "text/plain": [
       "<IPython.core.display.Javascript object>"
      ]
     },
     "metadata": {},
     "output_type": "display_data"
    },
    {
     "data": {
      "text/markdown": [
       "<span style=\"color:#33cc33\">Correct</span>"
      ],
      "text/plain": [
       "Correct"
      ]
     },
     "metadata": {},
     "output_type": "display_data"
    }
   ],
   "source": [
    "# TODO: Your code here\n",
    "professors['Graduated from'] = professors['Graduated from'].str.strip()\n",
    "# Check your answer\n",
    "q2.check()"
   ]
  },
  {
   "cell_type": "code",
   "execution_count": 8,
   "metadata": {
    "execution": {
     "iopub.execute_input": "2020-11-28T09:58:57.137003Z",
     "iopub.status.busy": "2020-11-28T09:58:57.136233Z",
     "iopub.status.idle": "2020-11-28T09:58:57.138713Z",
     "shell.execute_reply": "2020-11-28T09:58:57.139291Z"
    },
    "papermill": {
     "duration": 0.023664,
     "end_time": "2020-11-28T09:58:57.139422",
     "exception": false,
     "start_time": "2020-11-28T09:58:57.115758",
     "status": "completed"
    },
    "tags": []
   },
   "outputs": [],
   "source": [
    "# Lines below will give you a hint or solution code\n",
    "#q2.hint()\n",
    "#q2.solution()"
   ]
  },
  {
   "cell_type": "markdown",
   "metadata": {
    "papermill": {
     "duration": 0.017314,
     "end_time": "2020-11-28T09:58:57.174445",
     "exception": false,
     "start_time": "2020-11-28T09:58:57.157131",
     "status": "completed"
    },
    "tags": []
   },
   "source": [
    "# 3) Continue working with countries\n",
    "\n",
    "In the tutorial, we focused on cleaning up inconsistencies in the \"Country\" column.  Run the code cell below to view the list of unique values that we ended with."
   ]
  },
  {
   "cell_type": "code",
   "execution_count": 9,
   "metadata": {
    "execution": {
     "iopub.execute_input": "2020-11-28T09:58:57.215227Z",
     "iopub.status.busy": "2020-11-28T09:58:57.214381Z",
     "iopub.status.idle": "2020-11-28T09:58:57.218470Z",
     "shell.execute_reply": "2020-11-28T09:58:57.217954Z"
    },
    "papermill": {
     "duration": 0.026419,
     "end_time": "2020-11-28T09:58:57.218569",
     "exception": false,
     "start_time": "2020-11-28T09:58:57.192150",
     "status": "completed"
    },
    "tags": []
   },
   "outputs": [
    {
     "data": {
      "text/plain": [
       "array(['australia', 'austria', 'canada', 'china', 'finland', 'france',\n",
       "       'germany', 'greece', 'hongkong', 'ireland', 'italy', 'japan',\n",
       "       'macau', 'malaysia', 'mauritius', 'netherland', 'new zealand',\n",
       "       'norway', 'pakistan', 'portugal', 'russian federation',\n",
       "       'saudi arabia', 'scotland', 'singapore', 'south korea', 'spain',\n",
       "       'sweden', 'thailand', 'turkey', 'uk', 'urbana', 'usa', 'usofa'],\n",
       "      dtype=object)"
      ]
     },
     "execution_count": 9,
     "metadata": {},
     "output_type": "execute_result"
    }
   ],
   "source": [
    "# get all the unique values in the 'City' column\n",
    "countries = professors['Country'].unique()\n",
    "\n",
    "# sort them alphabetically and then take a closer look\n",
    "countries.sort()\n",
    "countries"
   ]
  },
  {
   "cell_type": "markdown",
   "metadata": {
    "papermill": {
     "duration": 0.017325,
     "end_time": "2020-11-28T09:58:57.253954",
     "exception": false,
     "start_time": "2020-11-28T09:58:57.236629",
     "status": "completed"
    },
    "tags": []
   },
   "source": [
    "Take another look at the \"Country\" column and see if there's any more data cleaning we need to do.\n",
    "\n",
    "It looks like 'usa' and 'usofa' should be the same country.  Correct the \"Country\" column in the dataframe so that 'usofa' appears instead as 'usa'.\n",
    "\n",
    "**Use the most recent version of the DataFrame (with the whitespaces at the beginning and end of cells removed) from question 2.**"
   ]
  },
  {
   "cell_type": "code",
   "execution_count": 10,
   "metadata": {
    "execution": {
     "iopub.execute_input": "2020-11-28T09:58:57.301009Z",
     "iopub.status.busy": "2020-11-28T09:58:57.300089Z",
     "iopub.status.idle": "2020-11-28T09:58:57.306352Z",
     "shell.execute_reply": "2020-11-28T09:58:57.306914Z"
    },
    "papermill": {
     "duration": 0.034992,
     "end_time": "2020-11-28T09:58:57.307043",
     "exception": false,
     "start_time": "2020-11-28T09:58:57.272051",
     "status": "completed"
    },
    "tags": []
   },
   "outputs": [
    {
     "name": "stdout",
     "output_type": "stream",
     "text": [
      "All done!\n"
     ]
    },
    {
     "data": {
      "application/javascript": [
       "parent.postMessage({\"jupyterEvent\": \"custom.exercise_interaction\", \"data\": {\"outcomeType\": 1, \"valueTowardsCompletion\": 0.3333333333333333, \"interactionType\": 1, \"questionType\": 1, \"questionId\": \"3_WorkingWithCities\", \"learnToolsVersion\": \"0.3.4\", \"failureMessage\": \"\", \"exceptionClass\": \"\", \"trace\": \"\"}}, \"*\")"
      ],
      "text/plain": [
       "<IPython.core.display.Javascript object>"
      ]
     },
     "metadata": {},
     "output_type": "display_data"
    },
    {
     "data": {
      "text/markdown": [
       "<span style=\"color:#33cc33\">Correct</span>"
      ],
      "text/plain": [
       "Correct"
      ]
     },
     "metadata": {},
     "output_type": "display_data"
    }
   ],
   "source": [
    "# TODO: Your code here!\n",
    "matches = fuzzywuzzy.process.extract(\"usa\", countries, limit=10, scorer=fuzzywuzzy.fuzz.token_sort_ratio)\n",
    "replace_matches_in_column(df=professors, column='Country', string_to_match=\"usa\", min_ratio=70)\n",
    "\n",
    "# Check your answer\n",
    "q3.check()"
   ]
  },
  {
   "cell_type": "code",
   "execution_count": 11,
   "metadata": {
    "execution": {
     "iopub.execute_input": "2020-11-28T09:58:57.349796Z",
     "iopub.status.busy": "2020-11-28T09:58:57.349068Z",
     "iopub.status.idle": "2020-11-28T09:58:57.352449Z",
     "shell.execute_reply": "2020-11-28T09:58:57.351894Z"
    },
    "papermill": {
     "duration": 0.026276,
     "end_time": "2020-11-28T09:58:57.352549",
     "exception": false,
     "start_time": "2020-11-28T09:58:57.326273",
     "status": "completed"
    },
    "tags": []
   },
   "outputs": [],
   "source": [
    "# Lines below will give you a hint or solution code\n",
    "#q3.hint()\n",
    "#q3.solution()"
   ]
  },
  {
   "cell_type": "markdown",
   "metadata": {
    "papermill": {
     "duration": 0.019298,
     "end_time": "2020-11-28T09:58:57.392595",
     "exception": false,
     "start_time": "2020-11-28T09:58:57.373297",
     "status": "completed"
    },
    "tags": []
   },
   "source": [
    "# Congratulations!\n",
    "\n",
    "Congratulations for completing the **Data Cleaning** course on Kaggle Learn!\n",
    "\n",
    "To practice your new skills, you're encouraged to download and investigate some of [Kaggle's Datasets](https://www.kaggle.com/datasets)."
   ]
  },
  {
   "cell_type": "markdown",
   "metadata": {
    "papermill": {
     "duration": 0.019683,
     "end_time": "2020-11-28T09:58:57.432333",
     "exception": false,
     "start_time": "2020-11-28T09:58:57.412650",
     "status": "completed"
    },
    "tags": []
   },
   "source": [
    "---\n",
    "\n",
    "\n",
    "\n",
    "\n",
    "*Have questions or comments? Visit the [Learn Discussion forum](https://www.kaggle.com/learn-forum/172650) to chat with other Learners.*"
   ]
  }
 ],
 "metadata": {
  "kernelspec": {
   "display_name": "Python 3",
   "language": "python",
   "name": "python3"
  },
  "language_info": {
   "codemirror_mode": {
    "name": "ipython",
    "version": 3
   },
   "file_extension": ".py",
   "mimetype": "text/x-python",
   "name": "python",
   "nbconvert_exporter": "python",
   "pygments_lexer": "ipython3",
   "version": "3.7.6"
  },
  "papermill": {
   "duration": 5.288041,
   "end_time": "2020-11-28T09:58:57.558121",
   "environment_variables": {},
   "exception": null,
   "input_path": "__notebook__.ipynb",
   "output_path": "__notebook__.ipynb",
   "parameters": {},
   "start_time": "2020-11-28T09:58:52.270080",
   "version": "2.1.0"
  }
 },
 "nbformat": 4,
 "nbformat_minor": 4
}
