{
 "cells": [
  {
   "cell_type": "markdown",
   "metadata": {
    "papermill": {
     "duration": 0.014556,
     "end_time": "2020-11-28T09:51:59.554497",
     "exception": false,
     "start_time": "2020-11-28T09:51:59.539941",
     "status": "completed"
    },
    "tags": []
   },
   "source": [
    "**This notebook is an exercise in the [Data Cleaning](https://www.kaggle.com/learn/data-cleaning) course.  You can reference the tutorial at [this link](https://www.kaggle.com/alexisbcook/character-encodings).**\n",
    "\n",
    "---\n"
   ]
  },
  {
   "cell_type": "markdown",
   "metadata": {
    "papermill": {
     "duration": 0.012668,
     "end_time": "2020-11-28T09:51:59.580905",
     "exception": false,
     "start_time": "2020-11-28T09:51:59.568237",
     "status": "completed"
    },
    "tags": []
   },
   "source": [
    "In this exercise, you'll apply what you learned in the **Character encodings** tutorial.\n",
    "\n",
    "# Setup\n",
    "\n",
    "The questions below will give you feedback on your work. Run the following cell to set up the feedback system."
   ]
  },
  {
   "cell_type": "code",
   "execution_count": 1,
   "metadata": {
    "execution": {
     "iopub.execute_input": "2020-11-28T09:51:59.613304Z",
     "iopub.status.busy": "2020-11-28T09:51:59.612453Z",
     "iopub.status.idle": "2020-11-28T09:51:59.691204Z",
     "shell.execute_reply": "2020-11-28T09:51:59.691891Z"
    },
    "papermill": {
     "duration": 0.098309,
     "end_time": "2020-11-28T09:51:59.692097",
     "exception": false,
     "start_time": "2020-11-28T09:51:59.593788",
     "status": "completed"
    },
    "tags": []
   },
   "outputs": [
    {
     "name": "stdout",
     "output_type": "stream",
     "text": [
      "Setup Complete\n"
     ]
    }
   ],
   "source": [
    "from learntools.core import binder\n",
    "binder.bind(globals())\n",
    "from learntools.data_cleaning.ex4 import *\n",
    "print(\"Setup Complete\")"
   ]
  },
  {
   "cell_type": "markdown",
   "metadata": {
    "papermill": {
     "duration": 0.013221,
     "end_time": "2020-11-28T09:51:59.720473",
     "exception": false,
     "start_time": "2020-11-28T09:51:59.707252",
     "status": "completed"
    },
    "tags": []
   },
   "source": [
    "# Get our environment set up\n",
    "\n",
    "The first thing we'll need to do is load in the libraries we'll be using."
   ]
  },
  {
   "cell_type": "code",
   "execution_count": 2,
   "metadata": {
    "execution": {
     "iopub.execute_input": "2020-11-28T09:51:59.754406Z",
     "iopub.status.busy": "2020-11-28T09:51:59.753459Z",
     "iopub.status.idle": "2020-11-28T09:51:59.756690Z",
     "shell.execute_reply": "2020-11-28T09:51:59.756034Z"
    },
    "papermill": {
     "duration": 0.022081,
     "end_time": "2020-11-28T09:51:59.756784",
     "exception": false,
     "start_time": "2020-11-28T09:51:59.734703",
     "status": "completed"
    },
    "tags": []
   },
   "outputs": [],
   "source": [
    "# modules we'll use\n",
    "import pandas as pd\n",
    "import numpy as np\n",
    "\n",
    "# helpful character encoding module\n",
    "import chardet\n",
    "\n",
    "# set seed for reproducibility\n",
    "np.random.seed(0)"
   ]
  },
  {
   "cell_type": "markdown",
   "metadata": {
    "papermill": {
     "duration": 0.013455,
     "end_time": "2020-11-28T09:51:59.784419",
     "exception": false,
     "start_time": "2020-11-28T09:51:59.770964",
     "status": "completed"
    },
    "tags": []
   },
   "source": [
    "# 1) What are encodings?\n",
    "\n",
    "You're working with a dataset composed of bytes.  Run the code cell below to print a sample entry."
   ]
  },
  {
   "cell_type": "code",
   "execution_count": 3,
   "metadata": {
    "execution": {
     "iopub.execute_input": "2020-11-28T09:51:59.817501Z",
     "iopub.status.busy": "2020-11-28T09:51:59.816591Z",
     "iopub.status.idle": "2020-11-28T09:51:59.821226Z",
     "shell.execute_reply": "2020-11-28T09:51:59.820684Z"
    },
    "papermill": {
     "duration": 0.022918,
     "end_time": "2020-11-28T09:51:59.821322",
     "exception": false,
     "start_time": "2020-11-28T09:51:59.798404",
     "status": "completed"
    },
    "tags": []
   },
   "outputs": [
    {
     "name": "stdout",
     "output_type": "stream",
     "text": [
      "b'\\xa7A\\xa6n'\n",
      "data type: <class 'bytes'>\n"
     ]
    }
   ],
   "source": [
    "sample_entry = b'\\xa7A\\xa6n'\n",
    "print(sample_entry)\n",
    "print('data type:', type(sample_entry))"
   ]
  },
  {
   "cell_type": "markdown",
   "metadata": {
    "papermill": {
     "duration": 0.014242,
     "end_time": "2020-11-28T09:51:59.849866",
     "exception": false,
     "start_time": "2020-11-28T09:51:59.835624",
     "status": "completed"
    },
    "tags": []
   },
   "source": [
    "You notice that it doesn't use the standard UTF-8 encoding. \n",
    "\n",
    "Use the next code cell to create a variable `new_entry` that changes the encoding from `\"big5-tw\"` to `\"utf-8\"`.  `new_entry` should have the bytes datatype."
   ]
  },
  {
   "cell_type": "code",
   "execution_count": 4,
   "metadata": {
    "execution": {
     "iopub.execute_input": "2020-11-28T09:51:59.887144Z",
     "iopub.status.busy": "2020-11-28T09:51:59.886096Z",
     "iopub.status.idle": "2020-11-28T09:51:59.892352Z",
     "shell.execute_reply": "2020-11-28T09:51:59.891749Z"
    },
    "papermill": {
     "duration": 0.027641,
     "end_time": "2020-11-28T09:51:59.892471",
     "exception": false,
     "start_time": "2020-11-28T09:51:59.864830",
     "status": "completed"
    },
    "tags": []
   },
   "outputs": [
    {
     "data": {
      "application/javascript": [
       "parent.postMessage({\"jupyterEvent\": \"custom.exercise_interaction\", \"data\": {\"outcomeType\": 1, \"valueTowardsCompletion\": 0.3333333333333333, \"interactionType\": 1, \"questionType\": 1, \"questionId\": \"1_EncodingsIntro\", \"learnToolsVersion\": \"0.3.4\", \"failureMessage\": \"\", \"exceptionClass\": \"\", \"trace\": \"\"}}, \"*\")"
      ],
      "text/plain": [
       "<IPython.core.display.Javascript object>"
      ]
     },
     "metadata": {},
     "output_type": "display_data"
    },
    {
     "data": {
      "text/markdown": [
       "<span style=\"color:#33cc33\">Correct</span>"
      ],
      "text/plain": [
       "Correct"
      ]
     },
     "metadata": {},
     "output_type": "display_data"
    }
   ],
   "source": [
    "entry = sample_entry.decode(\"big5-tw\")\n",
    "new_entry=entry.encode()\n",
    "\n",
    "# Check your answer\n",
    "q1.check()"
   ]
  },
  {
   "cell_type": "code",
   "execution_count": 5,
   "metadata": {
    "execution": {
     "iopub.execute_input": "2020-11-28T09:51:59.930051Z",
     "iopub.status.busy": "2020-11-28T09:51:59.929030Z",
     "iopub.status.idle": "2020-11-28T09:51:59.932392Z",
     "shell.execute_reply": "2020-11-28T09:51:59.931763Z"
    },
    "papermill": {
     "duration": 0.023469,
     "end_time": "2020-11-28T09:51:59.932502",
     "exception": false,
     "start_time": "2020-11-28T09:51:59.909033",
     "status": "completed"
    },
    "tags": []
   },
   "outputs": [],
   "source": [
    "# Lines below will give you a hint or solution code\n",
    "#q1.hint()\n",
    "#q1.solution()"
   ]
  },
  {
   "cell_type": "markdown",
   "metadata": {
    "papermill": {
     "duration": 0.01556,
     "end_time": "2020-11-28T09:51:59.964364",
     "exception": false,
     "start_time": "2020-11-28T09:51:59.948804",
     "status": "completed"
    },
    "tags": []
   },
   "source": [
    "# 2) Reading in files with encoding problems\n",
    "\n",
    "Use the code cell below to read in this file at path `\"../input/fatal-police-shootings-in-the-us/PoliceKillingsUS.csv\"`.  \n",
    "\n",
    "Figure out what the correct encoding should be and read in the file to a DataFrame `police_killings`."
   ]
  },
  {
   "cell_type": "code",
   "execution_count": 6,
   "metadata": {
    "execution": {
     "iopub.execute_input": "2020-11-28T09:52:00.003076Z",
     "iopub.status.busy": "2020-11-28T09:52:00.002054Z",
     "iopub.status.idle": "2020-11-28T09:52:00.026586Z",
     "shell.execute_reply": "2020-11-28T09:52:00.026026Z"
    },
    "papermill": {
     "duration": 0.046112,
     "end_time": "2020-11-28T09:52:00.026700",
     "exception": false,
     "start_time": "2020-11-28T09:51:59.980588",
     "status": "completed"
    },
    "tags": []
   },
   "outputs": [
    {
     "data": {
      "application/javascript": [
       "parent.postMessage({\"jupyterEvent\": \"custom.exercise_interaction\", \"data\": {\"outcomeType\": 1, \"valueTowardsCompletion\": 0.3333333333333333, \"interactionType\": 1, \"questionType\": 1, \"questionId\": \"2_ReadIn\", \"learnToolsVersion\": \"0.3.4\", \"failureMessage\": \"\", \"exceptionClass\": \"\", \"trace\": \"\"}}, \"*\")"
      ],
      "text/plain": [
       "<IPython.core.display.Javascript object>"
      ]
     },
     "metadata": {},
     "output_type": "display_data"
    },
    {
     "data": {
      "text/markdown": [
       "<span style=\"color:#33cc33\">Correct</span>"
      ],
      "text/plain": [
       "Correct"
      ]
     },
     "metadata": {},
     "output_type": "display_data"
    }
   ],
   "source": [
    "# TODO: Load in the DataFrame correctly.\n",
    "police_killings = pd.read_csv(\"../input/fatal-police-shootings-in-the-us/PoliceKillingsUS.csv\", encoding='Windows-1252')\n",
    "\n",
    "# Check your answer\n",
    "q2.check()"
   ]
  },
  {
   "cell_type": "markdown",
   "metadata": {
    "papermill": {
     "duration": 0.016975,
     "end_time": "2020-11-28T09:52:00.061160",
     "exception": false,
     "start_time": "2020-11-28T09:52:00.044185",
     "status": "completed"
    },
    "tags": []
   },
   "source": [
    "Feel free to use any additional code cells for supplemental work.  To get credit for finishing this question, you'll need to run `q2.check()` and get a result of **Correct**."
   ]
  },
  {
   "cell_type": "code",
   "execution_count": 7,
   "metadata": {
    "execution": {
     "iopub.execute_input": "2020-11-28T09:52:00.101237Z",
     "iopub.status.busy": "2020-11-28T09:52:00.100307Z",
     "iopub.status.idle": "2020-11-28T09:52:00.103658Z",
     "shell.execute_reply": "2020-11-28T09:52:00.102913Z"
    },
    "papermill": {
     "duration": 0.02439,
     "end_time": "2020-11-28T09:52:00.103770",
     "exception": false,
     "start_time": "2020-11-28T09:52:00.079380",
     "status": "completed"
    },
    "tags": []
   },
   "outputs": [],
   "source": [
    "# (Optional) Use this code cell for any additional work."
   ]
  },
  {
   "cell_type": "code",
   "execution_count": 8,
   "metadata": {
    "execution": {
     "iopub.execute_input": "2020-11-28T09:52:00.143478Z",
     "iopub.status.busy": "2020-11-28T09:52:00.142609Z",
     "iopub.status.idle": "2020-11-28T09:52:00.145973Z",
     "shell.execute_reply": "2020-11-28T09:52:00.145316Z"
    },
    "papermill": {
     "duration": 0.024232,
     "end_time": "2020-11-28T09:52:00.146077",
     "exception": false,
     "start_time": "2020-11-28T09:52:00.121845",
     "status": "completed"
    },
    "tags": []
   },
   "outputs": [],
   "source": [
    "# Lines below will give you a hint or solution code\n",
    "#q2.hint()\n",
    "#q2.solution()"
   ]
  },
  {
   "cell_type": "markdown",
   "metadata": {
    "papermill": {
     "duration": 0.017426,
     "end_time": "2020-11-28T09:52:00.181291",
     "exception": false,
     "start_time": "2020-11-28T09:52:00.163865",
     "status": "completed"
    },
    "tags": []
   },
   "source": [
    "# 3) Saving your files with UTF-8 encoding\n",
    "\n",
    "Save a version of the police killings dataset to CSV with UTF-8 encoding.  Your answer will be marked correct after saving this file.  \n",
    "\n",
    "Note: When using the `to_csv()` method, supply only the name of the file (e.g., `\"my_file.csv\"`).  This saves the file at the filepath `\"/kaggle/working/my_file.csv\"`."
   ]
  },
  {
   "cell_type": "code",
   "execution_count": 9,
   "metadata": {
    "execution": {
     "iopub.execute_input": "2020-11-28T09:52:00.221892Z",
     "iopub.status.busy": "2020-11-28T09:52:00.221111Z",
     "iopub.status.idle": "2020-11-28T09:52:00.575973Z",
     "shell.execute_reply": "2020-11-28T09:52:00.575395Z"
    },
    "papermill": {
     "duration": 0.376982,
     "end_time": "2020-11-28T09:52:00.576086",
     "exception": false,
     "start_time": "2020-11-28T09:52:00.199104",
     "status": "completed"
    },
    "tags": []
   },
   "outputs": [
    {
     "data": {
      "application/javascript": [
       "parent.postMessage({\"jupyterEvent\": \"custom.exercise_interaction\", \"data\": {\"outcomeType\": 1, \"valueTowardsCompletion\": 0.3333333333333333, \"interactionType\": 1, \"questionType\": 2, \"questionId\": \"3_SaveCSV\", \"learnToolsVersion\": \"0.3.4\", \"failureMessage\": \"\", \"exceptionClass\": \"\", \"trace\": \"\"}}, \"*\")"
      ],
      "text/plain": [
       "<IPython.core.display.Javascript object>"
      ]
     },
     "metadata": {},
     "output_type": "display_data"
    },
    {
     "data": {
      "text/markdown": [
       "<span style=\"color:#33cc33\">Correct</span>"
      ],
      "text/plain": [
       "Correct"
      ]
     },
     "metadata": {},
     "output_type": "display_data"
    }
   ],
   "source": [
    "# TODO: Save the police killings dataset to CSV\n",
    "\n",
    "police_killings.to_csv(\"my_file.csv\")\n",
    "# Check your answer\n",
    "q3.check()"
   ]
  },
  {
   "cell_type": "code",
   "execution_count": 10,
   "metadata": {
    "execution": {
     "iopub.execute_input": "2020-11-28T09:52:00.617741Z",
     "iopub.status.busy": "2020-11-28T09:52:00.616820Z",
     "iopub.status.idle": "2020-11-28T09:52:00.619980Z",
     "shell.execute_reply": "2020-11-28T09:52:00.619400Z"
    },
    "papermill": {
     "duration": 0.02575,
     "end_time": "2020-11-28T09:52:00.620086",
     "exception": false,
     "start_time": "2020-11-28T09:52:00.594336",
     "status": "completed"
    },
    "tags": []
   },
   "outputs": [],
   "source": [
    "# Lines below will give you a hint or solution code\n",
    "#q3.hint()\n",
    "#q3.solution()"
   ]
  },
  {
   "cell_type": "markdown",
   "metadata": {
    "papermill": {
     "duration": 0.018683,
     "end_time": "2020-11-28T09:52:00.657653",
     "exception": false,
     "start_time": "2020-11-28T09:52:00.638970",
     "status": "completed"
    },
    "tags": []
   },
   "source": [
    "# (Optional) More practice\n",
    "\n",
    "Check out [this dataset of files in different character encodings](https://www.kaggle.com/rtatman/character-encoding-examples). Can you read in all the files with their original encodings and them save them out as UTF-8 files?\n",
    "\n",
    "If you have a file that's in UTF-8 but has just a couple of weird-looking characters in it, you can try out the [ftfy module](https://ftfy.readthedocs.io/en/latest/#) and see if it helps. \n",
    "\n",
    "# Keep going\n",
    "\n",
    "In the final lesson, learn how to [**clean up inconsistent text entries**](https://www.kaggle.com/alexisbcook/inconsistent-data-entry) in your dataset."
   ]
  },
  {
   "cell_type": "markdown",
   "metadata": {
    "papermill": {
     "duration": 0.018289,
     "end_time": "2020-11-28T09:52:00.694636",
     "exception": false,
     "start_time": "2020-11-28T09:52:00.676347",
     "status": "completed"
    },
    "tags": []
   },
   "source": [
    "---\n",
    "\n",
    "\n",
    "\n",
    "\n",
    "*Have questions or comments? Visit the [Learn Discussion forum](https://www.kaggle.com/learn-forum/172650) to chat with other Learners.*"
   ]
  }
 ],
 "metadata": {
  "kernelspec": {
   "display_name": "Python 3",
   "language": "python",
   "name": "python3"
  },
  "language_info": {
   "codemirror_mode": {
    "name": "ipython",
    "version": 3
   },
   "file_extension": ".py",
   "mimetype": "text/x-python",
   "name": "python",
   "nbconvert_exporter": "python",
   "pygments_lexer": "ipython3",
   "version": "3.7.6"
  },
  "papermill": {
   "duration": 5.594611,
   "end_time": "2020-11-28T09:52:00.820748",
   "environment_variables": {},
   "exception": null,
   "input_path": "__notebook__.ipynb",
   "output_path": "__notebook__.ipynb",
   "parameters": {},
   "start_time": "2020-11-28T09:51:55.226137",
   "version": "2.1.0"
  }
 },
 "nbformat": 4,
 "nbformat_minor": 4
}
